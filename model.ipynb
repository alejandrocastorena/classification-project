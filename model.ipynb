{
 "cells": [
  {
   "cell_type": "code",
   "execution_count": null,
   "id": "41ad885b",
   "metadata": {},
   "outputs": [],
   "source": [
    "import pandas as pd\n",
    "from sklearn.model_selection import train_test_split\n",
    "from sklearn.linear_model import LogisticRegression\n",
    "from sklearn.metrics import accuracy_score, confusion_matrix\n",
    "import wrangle\n",
    "import env\n",
    "import explore"
   ]
  },
  {
   "cell_type": "code",
   "execution_count": null,
   "id": "c1834a39",
   "metadata": {},
   "outputs": [],
   "source": [
    "# Load the data\n",
    "telco_df = pd.read_csv(\"telco.csv\")"
   ]
  },
  {
   "cell_type": "code",
   "execution_count": null,
   "id": "ec52817d",
   "metadata": {},
   "outputs": [],
   "source": [
    "# Use the compare_dsl_churn_rate function to explore the data\n",
    "compare_dsl_churn_rate(telco_df)"
   ]
  },
  {
   "cell_type": "code",
   "execution_count": null,
   "id": "9bbfa4db",
   "metadata": {},
   "outputs": [],
   "source": [
    "# Split the data into training, validation, and test sets\n",
    "train_df, test_df = train_test_split(telco_df, test_size=0.2, random_state=42)\n",
    "train_df, val_df = train_test_split(train_df, test_size=0.25, random_state=42)"
   ]
  },
  {
   "cell_type": "code",
   "execution_count": null,
   "id": "e9f3d8c8",
   "metadata": {},
   "outputs": [],
   "source": [
    "# Define the features and target variables\n",
    "features = [\"tenure\", \"MonthlyCharges\", \"SeniorCitizen\", \"Partner\", \"Dependents\", \"PhoneService\", \"MultipleLines\", \"InternetService\", \"OnlineSecurity\", \"OnlineBackup\", \"DeviceProtection\", \"TechSupport\", \"StreamingTV\", \"StreamingMovies\", \"Contract\", \"PaperlessBilling\", \"PaymentMethod\"]\n",
    "target = \"Churn\""
   ]
  },
  {
   "cell_type": "code",
   "execution_count": null,
   "id": "a2bc0790",
   "metadata": {},
   "outputs": [],
   "source": [
    "# Use the compare_month_contract_churn function to explore the data\n",
    "compare_month_contract_churn(telco_df)"
   ]
  },
  {
   "cell_type": "code",
   "execution_count": null,
   "id": "90a90c3e",
   "metadata": {},
   "outputs": [],
   "source": [
    "# Train a logistic regression model on the training set\n",
    "lr_model = LogisticRegression(random_state=42)\n",
    "lr_model.fit(train_df[features], train_df[target])"
   ]
  },
  {
   "cell_type": "code",
   "execution_count": null,
   "id": "3eb39450",
   "metadata": {},
   "outputs": [],
   "source": [
    "# Use the model to make predictions on the validation set and calculate the accuracy and confusion matrix\n",
    "val_preds = lr_model.predict(val_df[features])\n",
    "val_accuracy = accuracy_score(val_df[target], val_preds)\n",
    "val_confusion_matrix = confusion_matrix(val_df[target], val_preds)\n",
    "print(\"Validation Accuracy:\", val_accuracy)\n",
    "print(\"Validation Confusion Matrix:\")\n",
    "print(val_confusion_matrix)"
   ]
  },
  {
   "cell_type": "code",
   "execution_count": null,
   "id": "4876bdd8",
   "metadata": {},
   "outputs": [],
   "source": [
    "# Use the compare_service_churn function to explore the data\n",
    "compare_service_churn(telco_df)"
   ]
  },
  {
   "cell_type": "code",
   "execution_count": null,
   "id": "4524785b",
   "metadata": {},
   "outputs": [],
   "source": [
    "# Use the compare_service_churn function to explore the data\n",
    "compare_service_churn(telco_df)"
   ]
  },
  {
   "cell_type": "code",
   "execution_count": null,
   "id": "76e43ba9",
   "metadata": {},
   "outputs": [],
   "source": [
    "# Use the model to make predictions on the test set and calculate the accuracy and confusion matrix\n",
    "test_preds = lr_model.predict(test_df[features])\n",
    "test_accuracy = accuracy_score(test_df[target], test_preds)\n",
    "test_confusion_matrix = confusion_matrix(test_df[target], test_preds)\n",
    "print(\"Test Accuracy:\", test_accuracy)\n",
    "print(\"Test Confusion Matrix:\")\n",
    "print(test_confusion_matrix)"
   ]
  },
  {
   "cell_type": "code",
   "execution_count": null,
   "id": "7dee9431",
   "metadata": {},
   "outputs": [],
   "source": [
    "# Use the compare_monthly_charges_churn function to explore the data\n",
    "compare_monthly_charges_churn(telco_df)"
   ]
  }
 ],
 "metadata": {
  "kernelspec": {
   "display_name": "Python 3 (ipykernel)",
   "language": "python",
   "name": "python3"
  },
  "language_info": {
   "codemirror_mode": {
    "name": "ipython",
    "version": 3
   },
   "file_extension": ".py",
   "mimetype": "text/x-python",
   "name": "python",
   "nbconvert_exporter": "python",
   "pygments_lexer": "ipython3",
   "version": "3.10.9"
  }
 },
 "nbformat": 4,
 "nbformat_minor": 5
}
