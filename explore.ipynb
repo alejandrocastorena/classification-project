{
 "cells": [
  {
   "cell_type": "code",
   "execution_count": 3,
   "id": "1a633131",
   "metadata": {},
   "outputs": [],
   "source": [
    "import wrangle\n",
    "import pandas as pd\n",
    "import matplotlib.pyplot as plt\n",
    "\n",
    "def compare_dsl_churn_rate(telco_df):\n",
    "    # Filter the data to include only customers with DSL\n",
    "    dsl_df = telco_df[telco_df[\"DSL\"] == \"Yes\"]\n",
    "    # Calculate the churn rate for customers with DSL\n",
    "    dsl_churn_rate = dsl_df[\"Churn\"].value_counts(normalize=True)[\"Yes\"]\n",
    "    # Filter the data to include only customers without DSL\n",
    "    no_dsl_df = telco_df[telco_df[\"DSL\"] == \"No\"]\n",
    "    # Calculate the churn rate for customers without DSL\n",
    "    no_dsl_churn_rate = no_dsl_df[\"Churn\"].value_counts(normalize=True)[\"Yes\"]"
   ]
  },
  {
   "cell_type": "code",
   "execution_count": 4,
   "id": "8e52fa64",
   "metadata": {},
   "outputs": [],
   "source": [
    "def compare_month_contract_churn(telco_df):\n",
    "    # Group the data by month and contract type and calculate the churn rate for each group\n",
    "    month_contract_churn = telco_df.groupby([\"Month\", \"Contract\"])[\"Churn\"].mean().reset_index()\n",
    "    # Create a line chart to visualize the churn rates by month and contract type\n",
    "    for contract in month_contract_churn[\"Contract\"].unique():\n",
    "        contract_df = month_contract_churn[month_contract_churn[\"Contract\"] == contract]"
   ]
  },
  {
   "cell_type": "code",
   "execution_count": 5,
   "id": "56bdc025",
   "metadata": {},
   "outputs": [],
   "source": [
    "def compare_service_churn(telco_df):\n",
    "    # Filter the data to include only customers who have churned\n",
    "    churn_df = telco_df[telco_df[\"Churn\"] == \"Yes\"]\n",
    "    # Calculate the churn rate for each service\n",
    "    service_churn = churn_df.iloc[:, 7:21].mean().reset_index()\n",
    "    service_churn.columns = [\"Service\", \"Churn Rate\"]\n",
    "    # Create a bar chart to visualize the churn rates for each service"
   ]
  },
  {
   "cell_type": "code",
   "execution_count": 6,
   "id": "86fcd02c",
   "metadata": {},
   "outputs": [],
   "source": [
    "def compare_monthly_charges_churn(telco_df):\n",
    "    # Group the data by churn and calculate the average monthly charges for each group\n",
    "    avg_monthly_charges = telco_df.groupby(\"Churn\")[\"MonthlyCharges\"].mean().reset_index()\n",
    "    # Create a box plot to compare the average monthly spend for customers who have churned and those who haven't"
   ]
  }
 ],
 "metadata": {
  "kernelspec": {
   "display_name": "Python 3 (ipykernel)",
   "language": "python",
   "name": "python3"
  },
  "language_info": {
   "codemirror_mode": {
    "name": "ipython",
    "version": 3
   },
   "file_extension": ".py",
   "mimetype": "text/x-python",
   "name": "python",
   "nbconvert_exporter": "python",
   "pygments_lexer": "ipython3",
   "version": "3.10.9"
  }
 },
 "nbformat": 4,
 "nbformat_minor": 5
}
